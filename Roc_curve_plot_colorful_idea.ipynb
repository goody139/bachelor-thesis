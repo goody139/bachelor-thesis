{
 "cells": [
  {
   "cell_type": "code",
   "execution_count": null,
   "metadata": {},
   "outputs": [],
   "source": [
    "using ROCAnalysis\n",
    "using Plots\n",
    "distname = gaussian \n",
    "\n",
    "# (tau,fp,fn,tp,tn)\n",
    "function example(performances, distribution; setup::NamedTuple, counter=0)\n",
    "    performance = performances[2]\n",
    "    distargs = performances[1]\n",
    "    timing_mean = performances[3]\n",
    "    if counter == 2\n",
    "        FP_rate , TP_rate = roc(performance[82:181])\n",
    "    elseif counter == 3 \n",
    "        FP_rate , TP_rate = roc(performance[182:281])\n",
    "    else\n",
    "        FP_rate , TP_rate = roc(performance[1:81])\n",
    "    end \n",
    "\n",
    "    AUC_score = auc(FP_rate, TP_rate)\n",
    "    plot_title = \"ROC measures for $(setup.trial_per_experiment) sequence trials \\n of the length $(setup.sequence_length). Trials were balanced: $(setup.balanced)\\n from $distribution with: $distargs + $timing_mean \\n AUC: $AUC_score\"\n",
    "    plot(FP_rate , TP_rate; title=plot_title, label=\"ROC curve for plateau length\", lw=3, titlefontsize=7)\n",
    "    plot!(ylims=(0, 100))\n",
    "    plot!(xlims=(0, 100))\n",
    "    plot!(xlabelfontsize=7)\n",
    "    plot!(ylabelfontsize=7)\n",
    "    plot!(legend=:outerbottom, legendfontsize=7)\n",
    "    ylabel!(\"True Positive Rate %\")\n",
    "    xlabel!(\"False Positive Rate % \\n\")\n",
    "end\n",
    "\n",
    "\n",
    "auc1 = example(performances[50], string(distname); setup=experiment_setup)\n",
    "auc2 = example(performances[50], string(distname); setup=experiment_setup, counter=2)\n",
    "auc3 = example(performances[50], string(distname); setup=experiment_setup, counter=3)\n",
    "auc4 = example(performances[200], string(distname); setup=experiment_setup)\n",
    "\n",
    "combined_plot = plot(auc1, auc2, auc3, auc4, layout=(2, 2), size=(1000, 1000))\n"
   ]
  },
  {
   "cell_type": "code",
   "execution_count": null,
   "metadata": {},
   "outputs": [],
   "source": [
    "using Plots\n",
    "\n",
    "function ex(performances, distribution; setup::NamedTuple)\n",
    "    # Extract the performance and arguments from the data structure\n",
    "    performance = performances[2]\n",
    "    distargs = performances[1]\n",
    "    timing_mean = performances[3]\n",
    "\n",
    "    # Define the segments of the performance data\n",
    "    segments = [\n",
    "        (1:81, :blue, \"plateau length 20-100\"),\n",
    "        (82:181, :red, \"plateau length 100-200\"), \n",
    "        (182:281, :green, \"plateau length 200-300\"), \n",
    "        (282, :yellow, \"plateau length 300-400\")\n",
    "        # hier fehlen noch 400-500 und 500-600(nicht 300-600 !)\n",
    "\n",
    "    ]\n",
    "\n",
    "    println(length(performance[1:end]))\n",
    "    #println(\"performance \",performance[82:181])\n",
    "\n",
    "    # Initialize the plot\n",
    "    plt = plot()\n",
    "\n",
    "    # Calculate AUC and plot for each segment\n",
    "    for (range, color, label) in segments\n",
    "        # Extract segment of performance data\n",
    "        if isa(range, Int64)\n",
    "            segment_performance = performance[range:end]\n",
    "        else \n",
    "            segment_performance = performance[range]\n",
    "        end \n",
    "\n",
    "        # Compute ROC points\n",
    "        FP_rate, TP_rate = roc(segment_performance)\n",
    "\n",
    "        # Compute AUC for the segment\n",
    "        AUC_score = auc(FP_rate, TP_rate)\n",
    "\n",
    "        # Add ROC curve for this segment\n",
    "        plot!(plt, FP_rate, TP_rate, label=\"$label AUC score $AUC_score\", color=color, lw=3)\n",
    "    end\n",
    "\n",
    "    # OVERALL AUC SCORE \n",
    "    FP_rate , TP_rate = roc(performance)\n",
    "    AUC_score = auc(FP_rate, TP_rate)\n",
    "    plot_title = \"ROC measures for $(setup.trial_per_experiment) sequence trials \\n of the length $(setup.sequence_length). Trials were balanced: $(setup.balanced)\\n from $distribution with: $distargs + $timing_mean \\n AUC: $AUC_score\"\n",
    "    plot(plt; title=plot_title, label=\"ROC curve for plateau length\", lw=3, titlefontsize=6)\n",
    "    plot!(ylims=(0, 100))\n",
    "    plot!(xlims=(0, 100))\n",
    "    plot!(xlabelfontsize=7)\n",
    "    plot!(ylabelfontsize=7)\n",
    "    plot!(legend=:outerbottom, legendfontsize=7)\n",
    "    ylabel!(\"True Positive Rate %\")\n",
    "    xlabel!(\"False Positive Rate % \\n\")\n",
    "\n",
    "end\n",
    "\n",
    "# experiment setup that is plotted \n",
    "experiment_setup = (alphabet = [:A, :B, :C, :D, :d],\n",
    "         target = target_E1,\n",
    "         sequence_length=10,\n",
    "         trial_per_experiment = 600,\n",
    "         min_tau = 20.0,\n",
    "         max_tau=600.0,\n",
    "         step=1.0,\n",
    "         balanced=true\n",
    "         )\n",
    "distname = gamma\n",
    "\n",
    "plot_ = ex(performances[50], \"Normal\", setup=experiment_setup)\n",
    "\n",
    "savefig(plot_ ,\"ROC measure COLORFUL WITHOUT JITTER GAUSSIAN BALANCED TARGET_E1.png\")\n"
   ]
  },
  {
   "cell_type": "code",
   "execution_count": null,
   "metadata": {},
   "outputs": [],
   "source": [
    "target_F4 = [ [:||, [ [:||, :A, :B], :C], :D], :E] \n",
    "\n",
    "# TYPE G\n",
    "target_G1 = [ [:&, [[:||, :A, :B], :E], [[:&, :D, :C], :F] ], :G ] \n",
    "\n",
    "\n",
    "\n",
    "[:& :A, [:||, :B, :C]]   = [:|| [:& :A, :B], [:& :A, :C]]\n",
    "\n",
    "\n",
    "# f structure \n",
    "[ [:&, :A, [[:||, :B, :C], :D]], :E]\n",
    "\n",
    "ABDE, ACDE, BDAE, CDAE \n",
    "\n",
    "\n",
    "[ [:&, :A, [[:&, :B, :C], :D]], :E]\n",
    "\n",
    "[:||, [[:& :A, :B], :D], [[:& :A, :C], :D], [:&, :B]]\n"
   ]
  },
  {
   "cell_type": "code",
   "execution_count": null,
   "metadata": {},
   "outputs": [],
   "source": [
    "[ [:&, :A, :B], :C ]\n",
    "\n",
    "ABC, BAC \n",
    "\n",
    "[:||, :A, :B], :C\n",
    "\n",
    "\n",
    "[ [:&, [:A, :B], [:D, :E]], :F ]\n",
    "\n",
    "ABDEF \n",
    "DEABF \n",
    "\n",
    "\n",
    "\n",
    "# geht sowas? macht das anstatt D1 sinn (mind.3 für sequenz? )\n",
    "[ [:||, :A, :B], :B, :C ]\n",
    "ein f structure mit and / oder \n",
    "ein g structure mit and / oder \n",
    "\n",
    "testen ob mein Code abfangen kann und überlegen ob tatsächlich equivalent \n",
    "[ [:&, [:A, :B], :C], :D ]\n",
    "\n",
    "ABCD, CABD \n",
    "\n",
    "[ABC] ODER [CAB] --> D"
   ]
  },
  {
   "cell_type": "code",
   "execution_count": 14,
   "metadata": {},
   "outputs": [
    {
     "data": {
      "text/plain": [
       "400-element Vector{Tuple}:\n",
       " ((mean = 1, sd = 10), [(20.0, 110, 62, 238, 190), (21.0, 114, 60, 240, 186), (22.0, 120, 58, 242, 180), (23.0, 128, 52, 248, 172), (24.0, 132, 49, 251, 168), (25.0, 140, 44, 256, 160), (26.0, 148, 41, 259, 152), (27.0, 150, 40, 260, 150), (28.0, 152, 35, 265, 148), (29.0, 160, 34, 266, 140)  …  (591.0, 260, 0, 300, 40), (592.0, 260, 0, 300, 40), (593.0, 260, 0, 300, 40), (594.0, 260, 0, 300, 40), (595.0, 260, 0, 300, 40), (596.0, 260, 0, 300, 40), (597.0, 260, 0, 300, 40), (598.0, 260, 0, 300, 40), (599.0, 260, 0, 300, 40), (600.0, 260, 0, 300, 40)])\n",
       " ((mean = 2, sd = 10), [(20.0, 92, 66, 234, 208), (21.0, 97, 59, 241, 203), (22.0, 101, 56, 244, 199), (23.0, 108, 53, 247, 192), (24.0, 111, 48, 252, 189), (25.0, 117, 46, 254, 183), (26.0, 121, 44, 256, 179), (27.0, 126, 41, 259, 174), (28.0, 131, 35, 265, 169), (29.0, 134, 30, 270, 166)  …  (591.0, 258, 0, 300, 42), (592.0, 258, 0, 300, 42), (593.0, 258, 0, 300, 42), (594.0, 258, 0, 300, 42), (595.0, 258, 0, 300, 42), (596.0, 258, 0, 300, 42), (597.0, 258, 0, 300, 42), (598.0, 258, 0, 300, 42), (599.0, 258, 0, 300, 42), (600.0, 258, 0, 300, 42)])\n",
       " ((mean = 3, sd = 10), [(20.0, 86, 80, 220, 214), (21.0, 94, 76, 224, 206), (22.0, 99, 72, 228, 201), (23.0, 105, 61, 239, 195), (24.0, 109, 55, 245, 191), (25.0, 116, 51, 249, 184), (26.0, 122, 47, 253, 178), (27.0, 127, 41, 259, 173), (28.0, 138, 39, 261, 162), (29.0, 145, 35, 265, 155)  …  (591.0, 254, 0, 300, 46), (592.0, 254, 0, 300, 46), (593.0, 254, 0, 300, 46), (594.0, 254, 0, 300, 46), (595.0, 254, 0, 300, 46), (596.0, 254, 0, 300, 46), (597.0, 254, 0, 300, 46), (598.0, 254, 0, 300, 46), (599.0, 254, 0, 300, 46), (600.0, 254, 0, 300, 46)])\n",
       " ((mean = 4, sd = 10), [(20.0, 77, 66, 234, 223), (21.0, 81, 56, 244, 219), (22.0, 88, 47, 253, 212), (23.0, 92, 42, 258, 208), (24.0, 93, 40, 260, 207), (25.0, 99, 35, 265, 201), (26.0, 101, 32, 268, 199), (27.0, 107, 30, 270, 193), (28.0, 113, 28, 272, 187), (29.0, 120, 24, 276, 180)  …  (591.0, 256, 0, 300, 44), (592.0, 256, 0, 300, 44), (593.0, 256, 0, 300, 44), (594.0, 256, 0, 300, 44), (595.0, 256, 0, 300, 44), (596.0, 256, 0, 300, 44), (597.0, 256, 0, 300, 44), (598.0, 256, 0, 300, 44), (599.0, 256, 0, 300, 44), (600.0, 256, 0, 300, 44)])\n",
       " ((mean = 5, sd = 10), [(20.0, 79, 72, 228, 221), (21.0, 84, 66, 234, 216), (22.0, 87, 62, 238, 213), (23.0, 92, 59, 241, 208), (24.0, 98, 56, 244, 202), (25.0, 105, 54, 246, 195), (26.0, 112, 49, 251, 188), (27.0, 116, 49, 251, 184), (28.0, 121, 47, 253, 179), (29.0, 127, 46, 254, 173)  …  (591.0, 267, 0, 300, 33), (592.0, 267, 0, 300, 33), (593.0, 267, 0, 300, 33), (594.0, 267, 0, 300, 33), (595.0, 267, 0, 300, 33), (596.0, 267, 0, 300, 33), (597.0, 267, 0, 300, 33), (598.0, 267, 0, 300, 33), (599.0, 267, 0, 300, 33), (600.0, 267, 0, 300, 33)])\n",
       " ((mean = 6, sd = 10), [(20.0, 52, 93, 207, 248), (21.0, 58, 84, 216, 242), (22.0, 60, 79, 221, 240), (23.0, 65, 77, 223, 235), (24.0, 73, 71, 229, 227), (25.0, 78, 63, 237, 222), (26.0, 82, 56, 244, 218), (27.0, 89, 53, 247, 211), (28.0, 90, 47, 253, 210), (29.0, 100, 47, 253, 200)  …  (591.0, 246, 0, 300, 54), (592.0, 246, 0, 300, 54), (593.0, 246, 0, 300, 54), (594.0, 246, 0, 300, 54), (595.0, 246, 0, 300, 54), (596.0, 246, 0, 300, 54), (597.0, 246, 0, 300, 54), (598.0, 246, 0, 300, 54), (599.0, 246, 0, 300, 54), (600.0, 246, 0, 300, 54)])\n",
       " ((mean = 7, sd = 10), [(20.0, 61, 84, 216, 239), (21.0, 70, 80, 220, 230), (22.0, 73, 75, 225, 227), (23.0, 75, 68, 232, 225), (24.0, 80, 60, 240, 220), (25.0, 85, 56, 244, 215), (26.0, 91, 53, 247, 209), (27.0, 100, 52, 248, 200), (28.0, 112, 46, 254, 188), (29.0, 119, 40, 260, 181)  …  (591.0, 259, 0, 300, 41), (592.0, 259, 0, 300, 41), (593.0, 259, 0, 300, 41), (594.0, 259, 0, 300, 41), (595.0, 259, 0, 300, 41), (596.0, 259, 0, 300, 41), (597.0, 259, 0, 300, 41), (598.0, 259, 0, 300, 41), (599.0, 259, 0, 300, 41), (600.0, 259, 0, 300, 41)])\n",
       " ((mean = 8, sd = 10), [(20.0, 47, 99, 201, 253), (21.0, 52, 91, 209, 248), (22.0, 58, 82, 218, 242), (23.0, 61, 75, 225, 239), (24.0, 65, 68, 232, 235), (25.0, 65, 63, 237, 235), (26.0, 73, 59, 241, 227), (27.0, 80, 57, 243, 220), (28.0, 82, 51, 249, 218), (29.0, 88, 44, 256, 212)  …  (591.0, 268, 0, 300, 32), (592.0, 268, 0, 300, 32), (593.0, 268, 0, 300, 32), (594.0, 268, 0, 300, 32), (595.0, 268, 0, 300, 32), (596.0, 268, 0, 300, 32), (597.0, 268, 0, 300, 32), (598.0, 268, 0, 300, 32), (599.0, 268, 0, 300, 32), (600.0, 268, 0, 300, 32)])\n",
       " ((mean = 9, sd = 10), [(20.0, 44, 101, 199, 256), (21.0, 49, 95, 205, 251), (22.0, 51, 92, 208, 249), (23.0, 55, 87, 213, 245), (24.0, 62, 77, 223, 238), (25.0, 64, 75, 225, 236), (26.0, 66, 73, 227, 234), (27.0, 74, 70, 230, 226), (28.0, 81, 63, 237, 219), (29.0, 88, 61, 239, 212)  …  (591.0, 249, 0, 300, 51), (592.0, 249, 0, 300, 51), (593.0, 249, 0, 300, 51), (594.0, 249, 0, 300, 51), (595.0, 249, 0, 300, 51), (596.0, 249, 0, 300, 51), (597.0, 249, 0, 300, 51), (598.0, 249, 0, 300, 51), (599.0, 249, 0, 300, 51), (600.0, 249, 0, 300, 51)])\n",
       " ((mean = 10, sd = 10), [(20.0, 38, 107, 193, 262), (21.0, 46, 99, 201, 254), (22.0, 51, 90, 210, 249), (23.0, 59, 85, 215, 241), (24.0, 64, 77, 223, 236), (25.0, 70, 72, 228, 230), (26.0, 77, 64, 236, 223), (27.0, 82, 58, 242, 218), (28.0, 84, 57, 243, 216), (29.0, 86, 52, 248, 214)  …  (591.0, 253, 0, 300, 47), (592.0, 253, 0, 300, 47), (593.0, 253, 0, 300, 47), (594.0, 253, 0, 300, 47), (595.0, 253, 0, 300, 47), (596.0, 253, 0, 300, 47), (597.0, 253, 0, 300, 47), (598.0, 253, 0, 300, 47), (599.0, 253, 0, 300, 47), (600.0, 253, 0, 300, 47)])\n",
       " ⋮\n",
       " ((mean = 392, sd = 10), [(20.0, 0, 300, 0, 300), (21.0, 0, 300, 0, 300), (22.0, 0, 300, 0, 300), (23.0, 0, 300, 0, 300), (24.0, 0, 300, 0, 300), (25.0, 0, 300, 0, 300), (26.0, 0, 300, 0, 300), (27.0, 0, 300, 0, 300), (28.0, 0, 300, 0, 300), (29.0, 0, 300, 0, 300)  …  (591.0, 0, 125, 175, 300), (592.0, 0, 125, 175, 300), (593.0, 0, 125, 175, 300), (594.0, 0, 125, 175, 300), (595.0, 0, 125, 175, 300), (596.0, 0, 125, 175, 300), (597.0, 0, 125, 175, 300), (598.0, 0, 125, 175, 300), (599.0, 0, 125, 175, 300), (600.0, 0, 125, 175, 300)])\n",
       " ((mean = 393, sd = 10), [(20.0, 0, 300, 0, 300), (21.0, 0, 300, 0, 300), (22.0, 0, 300, 0, 300), (23.0, 0, 300, 0, 300), (24.0, 0, 300, 0, 300), (25.0, 0, 300, 0, 300), (26.0, 0, 300, 0, 300), (27.0, 0, 300, 0, 300), (28.0, 0, 300, 0, 300), (29.0, 0, 300, 0, 300)  …  (591.0, 0, 106, 194, 300), (592.0, 0, 106, 194, 300), (593.0, 0, 106, 194, 300), (594.0, 0, 106, 194, 300), (595.0, 0, 106, 194, 300), (596.0, 0, 106, 194, 300), (597.0, 0, 106, 194, 300), (598.0, 0, 106, 194, 300), (599.0, 0, 106, 194, 300), (600.0, 0, 106, 194, 300)])\n",
       " ((mean = 394, sd = 10), [(20.0, 0, 300, 0, 300), (21.0, 0, 300, 0, 300), (22.0, 0, 300, 0, 300), (23.0, 0, 300, 0, 300), (24.0, 0, 300, 0, 300), (25.0, 0, 300, 0, 300), (26.0, 0, 300, 0, 300), (27.0, 0, 300, 0, 300), (28.0, 0, 300, 0, 300), (29.0, 0, 300, 0, 300)  …  (591.0, 0, 106, 194, 300), (592.0, 0, 106, 194, 300), (593.0, 0, 106, 194, 300), (594.0, 0, 106, 194, 300), (595.0, 0, 106, 194, 300), (596.0, 0, 106, 194, 300), (597.0, 0, 106, 194, 300), (598.0, 0, 106, 194, 300), (599.0, 0, 106, 194, 300), (600.0, 0, 106, 194, 300)])\n",
       " ((mean = 395, sd = 10), [(20.0, 0, 300, 0, 300), (21.0, 0, 300, 0, 300), (22.0, 0, 300, 0, 300), (23.0, 0, 300, 0, 300), (24.0, 0, 300, 0, 300), (25.0, 0, 300, 0, 300), (26.0, 0, 300, 0, 300), (27.0, 0, 300, 0, 300), (28.0, 0, 300, 0, 300), (29.0, 0, 300, 0, 300)  …  (591.0, 0, 120, 180, 300), (592.0, 0, 120, 180, 300), (593.0, 0, 120, 180, 300), (594.0, 0, 120, 180, 300), (595.0, 0, 120, 180, 300), (596.0, 0, 120, 180, 300), (597.0, 0, 120, 180, 300), (598.0, 0, 120, 180, 300), (599.0, 0, 120, 180, 300), (600.0, 0, 120, 180, 300)])\n",
       " ((mean = 396, sd = 10), [(20.0, 0, 300, 0, 300), (21.0, 0, 300, 0, 300), (22.0, 0, 300, 0, 300), (23.0, 0, 300, 0, 300), (24.0, 0, 300, 0, 300), (25.0, 0, 300, 0, 300), (26.0, 0, 300, 0, 300), (27.0, 0, 300, 0, 300), (28.0, 0, 300, 0, 300), (29.0, 0, 300, 0, 300)  …  (591.0, 0, 112, 188, 300), (592.0, 0, 112, 188, 300), (593.0, 0, 112, 188, 300), (594.0, 0, 112, 188, 300), (595.0, 0, 112, 188, 300), (596.0, 0, 112, 188, 300), (597.0, 0, 112, 188, 300), (598.0, 0, 112, 188, 300), (599.0, 0, 112, 188, 300), (600.0, 0, 112, 188, 300)])\n",
       " ((mean = 397, sd = 10), [(20.0, 0, 300, 0, 300), (21.0, 0, 300, 0, 300), (22.0, 0, 300, 0, 300), (23.0, 0, 300, 0, 300), (24.0, 0, 300, 0, 300), (25.0, 0, 300, 0, 300), (26.0, 0, 300, 0, 300), (27.0, 0, 300, 0, 300), (28.0, 0, 300, 0, 300), (29.0, 0, 300, 0, 300)  …  (591.0, 0, 115, 185, 300), (592.0, 0, 115, 185, 300), (593.0, 0, 115, 185, 300), (594.0, 0, 115, 185, 300), (595.0, 0, 115, 185, 300), (596.0, 0, 115, 185, 300), (597.0, 0, 115, 185, 300), (598.0, 0, 115, 185, 300), (599.0, 0, 115, 185, 300), (600.0, 0, 115, 185, 300)])\n",
       " ((mean = 398, sd = 10), [(20.0, 0, 300, 0, 300), (21.0, 0, 300, 0, 300), (22.0, 0, 300, 0, 300), (23.0, 0, 300, 0, 300), (24.0, 0, 300, 0, 300), (25.0, 0, 300, 0, 300), (26.0, 0, 300, 0, 300), (27.0, 0, 300, 0, 300), (28.0, 0, 300, 0, 300), (29.0, 0, 300, 0, 300)  …  (591.0, 0, 111, 189, 300), (592.0, 0, 111, 189, 300), (593.0, 0, 111, 189, 300), (594.0, 0, 111, 189, 300), (595.0, 0, 111, 189, 300), (596.0, 0, 111, 189, 300), (597.0, 0, 111, 189, 300), (598.0, 0, 111, 189, 300), (599.0, 0, 111, 189, 300), (600.0, 0, 111, 189, 300)])\n",
       " ((mean = 399, sd = 10), [(20.0, 0, 300, 0, 300), (21.0, 0, 300, 0, 300), (22.0, 0, 300, 0, 300), (23.0, 0, 300, 0, 300), (24.0, 0, 300, 0, 300), (25.0, 0, 300, 0, 300), (26.0, 0, 300, 0, 300), (27.0, 0, 300, 0, 300), (28.0, 0, 300, 0, 300), (29.0, 0, 300, 0, 300)  …  (591.0, 0, 118, 182, 300), (592.0, 0, 118, 182, 300), (593.0, 0, 118, 182, 300), (594.0, 0, 118, 182, 300), (595.0, 0, 118, 182, 300), (596.0, 0, 118, 182, 300), (597.0, 0, 118, 182, 300), (598.0, 0, 118, 182, 300), (599.0, 0, 118, 182, 300), (600.0, 0, 118, 182, 300)])\n",
       " ((mean = 400, sd = 10), [(20.0, 0, 300, 0, 300), (21.0, 0, 300, 0, 300), (22.0, 0, 300, 0, 300), (23.0, 0, 300, 0, 300), (24.0, 0, 300, 0, 300), (25.0, 0, 300, 0, 300), (26.0, 0, 300, 0, 300), (27.0, 0, 300, 0, 300), (28.0, 0, 300, 0, 300), (29.0, 0, 300, 0, 300)  …  (591.0, 0, 105, 195, 300), (592.0, 0, 105, 195, 300), (593.0, 0, 105, 195, 300), (594.0, 0, 105, 195, 300), (595.0, 0, 105, 195, 300), (596.0, 0, 105, 195, 300), (597.0, 0, 105, 195, 300), (598.0, 0, 105, 195, 300), (599.0, 0, 105, 195, 300), (600.0, 0, 105, 195, 300)])"
      ]
     },
     "metadata": {},
     "output_type": "display_data"
    }
   ],
   "source": [
    "include(\"Performances/performances.jl\")"
   ]
  },
  {
   "cell_type": "code",
   "execution_count": 1,
   "metadata": {},
   "outputs": [
    {
     "data": {
      "text/plain": [
       "save_performances (generic function with 1 method)"
      ]
     },
     "metadata": {},
     "output_type": "display_data"
    }
   ],
   "source": [
    "using Serialization\n",
    "\n",
    "function save_performances(performance, experiment_name)\n",
    "    file_path = \"Performances/test.jls\"\n",
    "    variables_dict = Dict{String, Any}()\n",
    "\n",
    "    # LOAD DATA \n",
    "    if filesize(file_path) != 0\n",
    "        existing_variables = open(file_path, \"r\") do file\n",
    "            deserialize(file)\n",
    "        end\n",
    "        merge!(variables_dict, existing_variables) \n",
    "    end \n",
    "    \n",
    "    # ADD NEW PERFORMANCE \n",
    "    variables_dict[experiment_name] = performance\n",
    "    open(file_path, \"w\") do file\n",
    "        serialize(file, variables_dict)\n",
    "    end\n",
    "\n",
    "end \n",
    "\n"
   ]
  },
  {
   "cell_type": "code",
   "execution_count": 2,
   "metadata": {},
   "outputs": [
    {
     "data": {
      "text/plain": [
       "load_performances (generic function with 2 methods)"
      ]
     },
     "metadata": {},
     "output_type": "display_data"
    }
   ],
   "source": [
    "function load_performances(experiment_name=nothing)\n",
    "    variables_dict = open(\"Performances/test.jls\", \"r\") do file\n",
    "        deserialize(file)\n",
    "    end\n",
    "    return isnothing(experiment_name) ? variables_dict : variables_dict[experiment_name]\n",
    "end "
   ]
  },
  {
   "cell_type": "code",
   "execution_count": 9,
   "metadata": {},
   "outputs": [
    {
     "name": "stdout",
     "output_type": "stream",
     "text": [
      "Dict{String, Any}(\"target_E1_UNBALANCED_gaussian_sd_25\" => 20)\n"
     ]
    }
   ],
   "source": [
    "#large_variable = target_E1_Balanced_gaussian_sd_10\n",
    "\n",
    "\n",
    "#Balanced ist groß geschrieben in 2 fällen \n",
    "\n",
    "# performance = target_E1_UNBALANCED_gaussian_sd_25\n",
    "save_performances(20, \"target_E1_UNBALANCED_gaussian_sd_25\")\n",
    "#println(load_performances(\"target_E1_Balanced_gaussian_sd_10\"))\n",
    "# for k in keys(load_performances())\n",
    "#     println(k)\n",
    "# end \n",
    "\n",
    "println(load_performances())"
   ]
  }
 ],
 "metadata": {
  "kernelspec": {
   "display_name": "Julia 1.10.0",
   "language": "julia",
   "name": "julia-1.10"
  },
  "language_info": {
   "file_extension": ".jl",
   "mimetype": "application/julia",
   "name": "julia",
   "version": "1.10.0"
  }
 },
 "nbformat": 4,
 "nbformat_minor": 2
}
